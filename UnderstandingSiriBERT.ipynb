{
  "nbformat": 4,
  "nbformat_minor": 0,
  "metadata": {
    "colab": {
      "provenance": []
    },
    "kernelspec": {
      "name": "python3",
      "display_name": "Python 3"
    },
    "accelerator": "GPU",
    "gpuClass": "standard",
    "widgets": {
      "application/vnd.jupyter.widget-state+json": {
        "21a63d5f98404745a6eea75a85cabef2": {
          "model_module": "@jupyter-widgets/controls",
          "model_name": "HBoxModel",
          "model_module_version": "1.5.0",
          "state": {
            "_dom_classes": [],
            "_model_module": "@jupyter-widgets/controls",
            "_model_module_version": "1.5.0",
            "_model_name": "HBoxModel",
            "_view_count": null,
            "_view_module": "@jupyter-widgets/controls",
            "_view_module_version": "1.5.0",
            "_view_name": "HBoxView",
            "box_style": "",
            "children": [
              "IPY_MODEL_5293267b44e548fe9c57f0dfd3751b22",
              "IPY_MODEL_55cb81cebbc64703bfd7b39ba228ea6c",
              "IPY_MODEL_c9d12f59b2f04713ba4ed296bb4b2718"
            ],
            "layout": "IPY_MODEL_f45db2b99ed546b59fce276a1cecd856"
          }
        },
        "5293267b44e548fe9c57f0dfd3751b22": {
          "model_module": "@jupyter-widgets/controls",
          "model_name": "HTMLModel",
          "model_module_version": "1.5.0",
          "state": {
            "_dom_classes": [],
            "_model_module": "@jupyter-widgets/controls",
            "_model_module_version": "1.5.0",
            "_model_name": "HTMLModel",
            "_view_count": null,
            "_view_module": "@jupyter-widgets/controls",
            "_view_module_version": "1.5.0",
            "_view_name": "HTMLView",
            "description": "",
            "description_tooltip": null,
            "layout": "IPY_MODEL_f71db0b1a264427ab10df07aacc744ff",
            "placeholder": "​",
            "style": "IPY_MODEL_cc0f1ddd481d448b9b8ef3e4cb726d0a",
            "value": "Downloading vocab.txt: 100%"
          }
        },
        "55cb81cebbc64703bfd7b39ba228ea6c": {
          "model_module": "@jupyter-widgets/controls",
          "model_name": "FloatProgressModel",
          "model_module_version": "1.5.0",
          "state": {
            "_dom_classes": [],
            "_model_module": "@jupyter-widgets/controls",
            "_model_module_version": "1.5.0",
            "_model_name": "FloatProgressModel",
            "_view_count": null,
            "_view_module": "@jupyter-widgets/controls",
            "_view_module_version": "1.5.0",
            "_view_name": "ProgressView",
            "bar_style": "success",
            "description": "",
            "description_tooltip": null,
            "layout": "IPY_MODEL_0f4af88c77d748299baa78ed02c70667",
            "max": 213450,
            "min": 0,
            "orientation": "horizontal",
            "style": "IPY_MODEL_0a2b8ea9da524a7889949b4decee2ab4",
            "value": 213450
          }
        },
        "c9d12f59b2f04713ba4ed296bb4b2718": {
          "model_module": "@jupyter-widgets/controls",
          "model_name": "HTMLModel",
          "model_module_version": "1.5.0",
          "state": {
            "_dom_classes": [],
            "_model_module": "@jupyter-widgets/controls",
            "_model_module_version": "1.5.0",
            "_model_name": "HTMLModel",
            "_view_count": null,
            "_view_module": "@jupyter-widgets/controls",
            "_view_module_version": "1.5.0",
            "_view_name": "HTMLView",
            "description": "",
            "description_tooltip": null,
            "layout": "IPY_MODEL_207bcf4c6294469da17050551d248d50",
            "placeholder": "​",
            "style": "IPY_MODEL_47c7194c5cc34fcdbc6a27b0ac7e24aa",
            "value": " 208k/208k [00:00&lt;00:00, 6.51kB/s]"
          }
        },
        "f45db2b99ed546b59fce276a1cecd856": {
          "model_module": "@jupyter-widgets/base",
          "model_name": "LayoutModel",
          "model_module_version": "1.2.0",
          "state": {
            "_model_module": "@jupyter-widgets/base",
            "_model_module_version": "1.2.0",
            "_model_name": "LayoutModel",
            "_view_count": null,
            "_view_module": "@jupyter-widgets/base",
            "_view_module_version": "1.2.0",
            "_view_name": "LayoutView",
            "align_content": null,
            "align_items": null,
            "align_self": null,
            "border": null,
            "bottom": null,
            "display": null,
            "flex": null,
            "flex_flow": null,
            "grid_area": null,
            "grid_auto_columns": null,
            "grid_auto_flow": null,
            "grid_auto_rows": null,
            "grid_column": null,
            "grid_gap": null,
            "grid_row": null,
            "grid_template_areas": null,
            "grid_template_columns": null,
            "grid_template_rows": null,
            "height": null,
            "justify_content": null,
            "justify_items": null,
            "left": null,
            "margin": null,
            "max_height": null,
            "max_width": null,
            "min_height": null,
            "min_width": null,
            "object_fit": null,
            "object_position": null,
            "order": null,
            "overflow": null,
            "overflow_x": null,
            "overflow_y": null,
            "padding": null,
            "right": null,
            "top": null,
            "visibility": null,
            "width": null
          }
        },
        "f71db0b1a264427ab10df07aacc744ff": {
          "model_module": "@jupyter-widgets/base",
          "model_name": "LayoutModel",
          "model_module_version": "1.2.0",
          "state": {
            "_model_module": "@jupyter-widgets/base",
            "_model_module_version": "1.2.0",
            "_model_name": "LayoutModel",
            "_view_count": null,
            "_view_module": "@jupyter-widgets/base",
            "_view_module_version": "1.2.0",
            "_view_name": "LayoutView",
            "align_content": null,
            "align_items": null,
            "align_self": null,
            "border": null,
            "bottom": null,
            "display": null,
            "flex": null,
            "flex_flow": null,
            "grid_area": null,
            "grid_auto_columns": null,
            "grid_auto_flow": null,
            "grid_auto_rows": null,
            "grid_column": null,
            "grid_gap": null,
            "grid_row": null,
            "grid_template_areas": null,
            "grid_template_columns": null,
            "grid_template_rows": null,
            "height": null,
            "justify_content": null,
            "justify_items": null,
            "left": null,
            "margin": null,
            "max_height": null,
            "max_width": null,
            "min_height": null,
            "min_width": null,
            "object_fit": null,
            "object_position": null,
            "order": null,
            "overflow": null,
            "overflow_x": null,
            "overflow_y": null,
            "padding": null,
            "right": null,
            "top": null,
            "visibility": null,
            "width": null
          }
        },
        "cc0f1ddd481d448b9b8ef3e4cb726d0a": {
          "model_module": "@jupyter-widgets/controls",
          "model_name": "DescriptionStyleModel",
          "model_module_version": "1.5.0",
          "state": {
            "_model_module": "@jupyter-widgets/controls",
            "_model_module_version": "1.5.0",
            "_model_name": "DescriptionStyleModel",
            "_view_count": null,
            "_view_module": "@jupyter-widgets/base",
            "_view_module_version": "1.2.0",
            "_view_name": "StyleView",
            "description_width": ""
          }
        },
        "0f4af88c77d748299baa78ed02c70667": {
          "model_module": "@jupyter-widgets/base",
          "model_name": "LayoutModel",
          "model_module_version": "1.2.0",
          "state": {
            "_model_module": "@jupyter-widgets/base",
            "_model_module_version": "1.2.0",
            "_model_name": "LayoutModel",
            "_view_count": null,
            "_view_module": "@jupyter-widgets/base",
            "_view_module_version": "1.2.0",
            "_view_name": "LayoutView",
            "align_content": null,
            "align_items": null,
            "align_self": null,
            "border": null,
            "bottom": null,
            "display": null,
            "flex": null,
            "flex_flow": null,
            "grid_area": null,
            "grid_auto_columns": null,
            "grid_auto_flow": null,
            "grid_auto_rows": null,
            "grid_column": null,
            "grid_gap": null,
            "grid_row": null,
            "grid_template_areas": null,
            "grid_template_columns": null,
            "grid_template_rows": null,
            "height": null,
            "justify_content": null,
            "justify_items": null,
            "left": null,
            "margin": null,
            "max_height": null,
            "max_width": null,
            "min_height": null,
            "min_width": null,
            "object_fit": null,
            "object_position": null,
            "order": null,
            "overflow": null,
            "overflow_x": null,
            "overflow_y": null,
            "padding": null,
            "right": null,
            "top": null,
            "visibility": null,
            "width": null
          }
        },
        "0a2b8ea9da524a7889949b4decee2ab4": {
          "model_module": "@jupyter-widgets/controls",
          "model_name": "ProgressStyleModel",
          "model_module_version": "1.5.0",
          "state": {
            "_model_module": "@jupyter-widgets/controls",
            "_model_module_version": "1.5.0",
            "_model_name": "ProgressStyleModel",
            "_view_count": null,
            "_view_module": "@jupyter-widgets/base",
            "_view_module_version": "1.2.0",
            "_view_name": "StyleView",
            "bar_color": null,
            "description_width": ""
          }
        },
        "207bcf4c6294469da17050551d248d50": {
          "model_module": "@jupyter-widgets/base",
          "model_name": "LayoutModel",
          "model_module_version": "1.2.0",
          "state": {
            "_model_module": "@jupyter-widgets/base",
            "_model_module_version": "1.2.0",
            "_model_name": "LayoutModel",
            "_view_count": null,
            "_view_module": "@jupyter-widgets/base",
            "_view_module_version": "1.2.0",
            "_view_name": "LayoutView",
            "align_content": null,
            "align_items": null,
            "align_self": null,
            "border": null,
            "bottom": null,
            "display": null,
            "flex": null,
            "flex_flow": null,
            "grid_area": null,
            "grid_auto_columns": null,
            "grid_auto_flow": null,
            "grid_auto_rows": null,
            "grid_column": null,
            "grid_gap": null,
            "grid_row": null,
            "grid_template_areas": null,
            "grid_template_columns": null,
            "grid_template_rows": null,
            "height": null,
            "justify_content": null,
            "justify_items": null,
            "left": null,
            "margin": null,
            "max_height": null,
            "max_width": null,
            "min_height": null,
            "min_width": null,
            "object_fit": null,
            "object_position": null,
            "order": null,
            "overflow": null,
            "overflow_x": null,
            "overflow_y": null,
            "padding": null,
            "right": null,
            "top": null,
            "visibility": null,
            "width": null
          }
        },
        "47c7194c5cc34fcdbc6a27b0ac7e24aa": {
          "model_module": "@jupyter-widgets/controls",
          "model_name": "DescriptionStyleModel",
          "model_module_version": "1.5.0",
          "state": {
            "_model_module": "@jupyter-widgets/controls",
            "_model_module_version": "1.5.0",
            "_model_name": "DescriptionStyleModel",
            "_view_count": null,
            "_view_module": "@jupyter-widgets/base",
            "_view_module_version": "1.2.0",
            "_view_name": "StyleView",
            "description_width": ""
          }
        },
        "a0b1601cafce4f05bf727ebd0caf0bc2": {
          "model_module": "@jupyter-widgets/controls",
          "model_name": "HBoxModel",
          "model_module_version": "1.5.0",
          "state": {
            "_dom_classes": [],
            "_model_module": "@jupyter-widgets/controls",
            "_model_module_version": "1.5.0",
            "_model_name": "HBoxModel",
            "_view_count": null,
            "_view_module": "@jupyter-widgets/controls",
            "_view_module_version": "1.5.0",
            "_view_name": "HBoxView",
            "box_style": "",
            "children": [
              "IPY_MODEL_76ac8fdd6335426cbeebbd3a31e646bf",
              "IPY_MODEL_24ae0cbdac964d8aaa57a725c56b4197",
              "IPY_MODEL_b021d300c12f458fb39e3fc39b222a23"
            ],
            "layout": "IPY_MODEL_7ac4363a54e24d6c9e55024c1f6d8786"
          }
        },
        "76ac8fdd6335426cbeebbd3a31e646bf": {
          "model_module": "@jupyter-widgets/controls",
          "model_name": "HTMLModel",
          "model_module_version": "1.5.0",
          "state": {
            "_dom_classes": [],
            "_model_module": "@jupyter-widgets/controls",
            "_model_module_version": "1.5.0",
            "_model_name": "HTMLModel",
            "_view_count": null,
            "_view_module": "@jupyter-widgets/controls",
            "_view_module_version": "1.5.0",
            "_view_name": "HTMLView",
            "description": "",
            "description_tooltip": null,
            "layout": "IPY_MODEL_1bf842bd298f47d4a404468dc91914b3",
            "placeholder": "​",
            "style": "IPY_MODEL_953d98ff341f44c1a7612e707dc1e66f",
            "value": "Downloading tokenizer_config.json: 100%"
          }
        },
        "24ae0cbdac964d8aaa57a725c56b4197": {
          "model_module": "@jupyter-widgets/controls",
          "model_name": "FloatProgressModel",
          "model_module_version": "1.5.0",
          "state": {
            "_dom_classes": [],
            "_model_module": "@jupyter-widgets/controls",
            "_model_module_version": "1.5.0",
            "_model_name": "FloatProgressModel",
            "_view_count": null,
            "_view_module": "@jupyter-widgets/controls",
            "_view_module_version": "1.5.0",
            "_view_name": "ProgressView",
            "bar_style": "success",
            "description": "",
            "description_tooltip": null,
            "layout": "IPY_MODEL_bcadd05bcc6a4df18e32c7331bac8b7a",
            "max": 29,
            "min": 0,
            "orientation": "horizontal",
            "style": "IPY_MODEL_ea37a12d5c0f440881f15dc68b3a841b",
            "value": 29
          }
        },
        "b021d300c12f458fb39e3fc39b222a23": {
          "model_module": "@jupyter-widgets/controls",
          "model_name": "HTMLModel",
          "model_module_version": "1.5.0",
          "state": {
            "_dom_classes": [],
            "_model_module": "@jupyter-widgets/controls",
            "_model_module_version": "1.5.0",
            "_model_name": "HTMLModel",
            "_view_count": null,
            "_view_module": "@jupyter-widgets/controls",
            "_view_module_version": "1.5.0",
            "_view_name": "HTMLView",
            "description": "",
            "description_tooltip": null,
            "layout": "IPY_MODEL_27c4be0d147d493396488de82f6b1592",
            "placeholder": "​",
            "style": "IPY_MODEL_95bbd28d3a6a4c879156a4a598763214",
            "value": " 29.0/29.0 [00:00&lt;00:00, 286B/s]"
          }
        },
        "7ac4363a54e24d6c9e55024c1f6d8786": {
          "model_module": "@jupyter-widgets/base",
          "model_name": "LayoutModel",
          "model_module_version": "1.2.0",
          "state": {
            "_model_module": "@jupyter-widgets/base",
            "_model_module_version": "1.2.0",
            "_model_name": "LayoutModel",
            "_view_count": null,
            "_view_module": "@jupyter-widgets/base",
            "_view_module_version": "1.2.0",
            "_view_name": "LayoutView",
            "align_content": null,
            "align_items": null,
            "align_self": null,
            "border": null,
            "bottom": null,
            "display": null,
            "flex": null,
            "flex_flow": null,
            "grid_area": null,
            "grid_auto_columns": null,
            "grid_auto_flow": null,
            "grid_auto_rows": null,
            "grid_column": null,
            "grid_gap": null,
            "grid_row": null,
            "grid_template_areas": null,
            "grid_template_columns": null,
            "grid_template_rows": null,
            "height": null,
            "justify_content": null,
            "justify_items": null,
            "left": null,
            "margin": null,
            "max_height": null,
            "max_width": null,
            "min_height": null,
            "min_width": null,
            "object_fit": null,
            "object_position": null,
            "order": null,
            "overflow": null,
            "overflow_x": null,
            "overflow_y": null,
            "padding": null,
            "right": null,
            "top": null,
            "visibility": null,
            "width": null
          }
        },
        "1bf842bd298f47d4a404468dc91914b3": {
          "model_module": "@jupyter-widgets/base",
          "model_name": "LayoutModel",
          "model_module_version": "1.2.0",
          "state": {
            "_model_module": "@jupyter-widgets/base",
            "_model_module_version": "1.2.0",
            "_model_name": "LayoutModel",
            "_view_count": null,
            "_view_module": "@jupyter-widgets/base",
            "_view_module_version": "1.2.0",
            "_view_name": "LayoutView",
            "align_content": null,
            "align_items": null,
            "align_self": null,
            "border": null,
            "bottom": null,
            "display": null,
            "flex": null,
            "flex_flow": null,
            "grid_area": null,
            "grid_auto_columns": null,
            "grid_auto_flow": null,
            "grid_auto_rows": null,
            "grid_column": null,
            "grid_gap": null,
            "grid_row": null,
            "grid_template_areas": null,
            "grid_template_columns": null,
            "grid_template_rows": null,
            "height": null,
            "justify_content": null,
            "justify_items": null,
            "left": null,
            "margin": null,
            "max_height": null,
            "max_width": null,
            "min_height": null,
            "min_width": null,
            "object_fit": null,
            "object_position": null,
            "order": null,
            "overflow": null,
            "overflow_x": null,
            "overflow_y": null,
            "padding": null,
            "right": null,
            "top": null,
            "visibility": null,
            "width": null
          }
        },
        "953d98ff341f44c1a7612e707dc1e66f": {
          "model_module": "@jupyter-widgets/controls",
          "model_name": "DescriptionStyleModel",
          "model_module_version": "1.5.0",
          "state": {
            "_model_module": "@jupyter-widgets/controls",
            "_model_module_version": "1.5.0",
            "_model_name": "DescriptionStyleModel",
            "_view_count": null,
            "_view_module": "@jupyter-widgets/base",
            "_view_module_version": "1.2.0",
            "_view_name": "StyleView",
            "description_width": ""
          }
        },
        "bcadd05bcc6a4df18e32c7331bac8b7a": {
          "model_module": "@jupyter-widgets/base",
          "model_name": "LayoutModel",
          "model_module_version": "1.2.0",
          "state": {
            "_model_module": "@jupyter-widgets/base",
            "_model_module_version": "1.2.0",
            "_model_name": "LayoutModel",
            "_view_count": null,
            "_view_module": "@jupyter-widgets/base",
            "_view_module_version": "1.2.0",
            "_view_name": "LayoutView",
            "align_content": null,
            "align_items": null,
            "align_self": null,
            "border": null,
            "bottom": null,
            "display": null,
            "flex": null,
            "flex_flow": null,
            "grid_area": null,
            "grid_auto_columns": null,
            "grid_auto_flow": null,
            "grid_auto_rows": null,
            "grid_column": null,
            "grid_gap": null,
            "grid_row": null,
            "grid_template_areas": null,
            "grid_template_columns": null,
            "grid_template_rows": null,
            "height": null,
            "justify_content": null,
            "justify_items": null,
            "left": null,
            "margin": null,
            "max_height": null,
            "max_width": null,
            "min_height": null,
            "min_width": null,
            "object_fit": null,
            "object_position": null,
            "order": null,
            "overflow": null,
            "overflow_x": null,
            "overflow_y": null,
            "padding": null,
            "right": null,
            "top": null,
            "visibility": null,
            "width": null
          }
        },
        "ea37a12d5c0f440881f15dc68b3a841b": {
          "model_module": "@jupyter-widgets/controls",
          "model_name": "ProgressStyleModel",
          "model_module_version": "1.5.0",
          "state": {
            "_model_module": "@jupyter-widgets/controls",
            "_model_module_version": "1.5.0",
            "_model_name": "ProgressStyleModel",
            "_view_count": null,
            "_view_module": "@jupyter-widgets/base",
            "_view_module_version": "1.2.0",
            "_view_name": "StyleView",
            "bar_color": null,
            "description_width": ""
          }
        },
        "27c4be0d147d493396488de82f6b1592": {
          "model_module": "@jupyter-widgets/base",
          "model_name": "LayoutModel",
          "model_module_version": "1.2.0",
          "state": {
            "_model_module": "@jupyter-widgets/base",
            "_model_module_version": "1.2.0",
            "_model_name": "LayoutModel",
            "_view_count": null,
            "_view_module": "@jupyter-widgets/base",
            "_view_module_version": "1.2.0",
            "_view_name": "LayoutView",
            "align_content": null,
            "align_items": null,
            "align_self": null,
            "border": null,
            "bottom": null,
            "display": null,
            "flex": null,
            "flex_flow": null,
            "grid_area": null,
            "grid_auto_columns": null,
            "grid_auto_flow": null,
            "grid_auto_rows": null,
            "grid_column": null,
            "grid_gap": null,
            "grid_row": null,
            "grid_template_areas": null,
            "grid_template_columns": null,
            "grid_template_rows": null,
            "height": null,
            "justify_content": null,
            "justify_items": null,
            "left": null,
            "margin": null,
            "max_height": null,
            "max_width": null,
            "min_height": null,
            "min_width": null,
            "object_fit": null,
            "object_position": null,
            "order": null,
            "overflow": null,
            "overflow_x": null,
            "overflow_y": null,
            "padding": null,
            "right": null,
            "top": null,
            "visibility": null,
            "width": null
          }
        },
        "95bbd28d3a6a4c879156a4a598763214": {
          "model_module": "@jupyter-widgets/controls",
          "model_name": "DescriptionStyleModel",
          "model_module_version": "1.5.0",
          "state": {
            "_model_module": "@jupyter-widgets/controls",
            "_model_module_version": "1.5.0",
            "_model_name": "DescriptionStyleModel",
            "_view_count": null,
            "_view_module": "@jupyter-widgets/base",
            "_view_module_version": "1.2.0",
            "_view_name": "StyleView",
            "description_width": ""
          }
        },
        "00673a20e9f241298043c1e2dbf0a3b7": {
          "model_module": "@jupyter-widgets/controls",
          "model_name": "HBoxModel",
          "model_module_version": "1.5.0",
          "state": {
            "_dom_classes": [],
            "_model_module": "@jupyter-widgets/controls",
            "_model_module_version": "1.5.0",
            "_model_name": "HBoxModel",
            "_view_count": null,
            "_view_module": "@jupyter-widgets/controls",
            "_view_module_version": "1.5.0",
            "_view_name": "HBoxView",
            "box_style": "",
            "children": [
              "IPY_MODEL_d364790f9ac246e2982dfc4017144fb8",
              "IPY_MODEL_486a784f08cf49f0b6d8f7aba6621f22",
              "IPY_MODEL_5f751f7762214b3ab48512f712e626fb"
            ],
            "layout": "IPY_MODEL_28b1e9a5eee4443abc1882dd425a3b8d"
          }
        },
        "d364790f9ac246e2982dfc4017144fb8": {
          "model_module": "@jupyter-widgets/controls",
          "model_name": "HTMLModel",
          "model_module_version": "1.5.0",
          "state": {
            "_dom_classes": [],
            "_model_module": "@jupyter-widgets/controls",
            "_model_module_version": "1.5.0",
            "_model_name": "HTMLModel",
            "_view_count": null,
            "_view_module": "@jupyter-widgets/controls",
            "_view_module_version": "1.5.0",
            "_view_name": "HTMLView",
            "description": "",
            "description_tooltip": null,
            "layout": "IPY_MODEL_3a93f5053a5e4b0189a5a28c61e73f19",
            "placeholder": "​",
            "style": "IPY_MODEL_f876fd2f8e6f472db1370ca8fe7482c0",
            "value": "Downloading config.json: 100%"
          }
        },
        "486a784f08cf49f0b6d8f7aba6621f22": {
          "model_module": "@jupyter-widgets/controls",
          "model_name": "FloatProgressModel",
          "model_module_version": "1.5.0",
          "state": {
            "_dom_classes": [],
            "_model_module": "@jupyter-widgets/controls",
            "_model_module_version": "1.5.0",
            "_model_name": "FloatProgressModel",
            "_view_count": null,
            "_view_module": "@jupyter-widgets/controls",
            "_view_module_version": "1.5.0",
            "_view_name": "ProgressView",
            "bar_style": "success",
            "description": "",
            "description_tooltip": null,
            "layout": "IPY_MODEL_fc63e16467f54d3abc537e222ffe916f",
            "max": 570,
            "min": 0,
            "orientation": "horizontal",
            "style": "IPY_MODEL_92788b5492dc4c22b5c269eaf3eb0bd2",
            "value": 570
          }
        },
        "5f751f7762214b3ab48512f712e626fb": {
          "model_module": "@jupyter-widgets/controls",
          "model_name": "HTMLModel",
          "model_module_version": "1.5.0",
          "state": {
            "_dom_classes": [],
            "_model_module": "@jupyter-widgets/controls",
            "_model_module_version": "1.5.0",
            "_model_name": "HTMLModel",
            "_view_count": null,
            "_view_module": "@jupyter-widgets/controls",
            "_view_module_version": "1.5.0",
            "_view_name": "HTMLView",
            "description": "",
            "description_tooltip": null,
            "layout": "IPY_MODEL_34fe9c819a5045f2ba4458bd0dfb756f",
            "placeholder": "​",
            "style": "IPY_MODEL_03338beffa5143fb96dda56ee12dd9fa",
            "value": " 570/570 [00:00&lt;00:00, 5.43kB/s]"
          }
        },
        "28b1e9a5eee4443abc1882dd425a3b8d": {
          "model_module": "@jupyter-widgets/base",
          "model_name": "LayoutModel",
          "model_module_version": "1.2.0",
          "state": {
            "_model_module": "@jupyter-widgets/base",
            "_model_module_version": "1.2.0",
            "_model_name": "LayoutModel",
            "_view_count": null,
            "_view_module": "@jupyter-widgets/base",
            "_view_module_version": "1.2.0",
            "_view_name": "LayoutView",
            "align_content": null,
            "align_items": null,
            "align_self": null,
            "border": null,
            "bottom": null,
            "display": null,
            "flex": null,
            "flex_flow": null,
            "grid_area": null,
            "grid_auto_columns": null,
            "grid_auto_flow": null,
            "grid_auto_rows": null,
            "grid_column": null,
            "grid_gap": null,
            "grid_row": null,
            "grid_template_areas": null,
            "grid_template_columns": null,
            "grid_template_rows": null,
            "height": null,
            "justify_content": null,
            "justify_items": null,
            "left": null,
            "margin": null,
            "max_height": null,
            "max_width": null,
            "min_height": null,
            "min_width": null,
            "object_fit": null,
            "object_position": null,
            "order": null,
            "overflow": null,
            "overflow_x": null,
            "overflow_y": null,
            "padding": null,
            "right": null,
            "top": null,
            "visibility": null,
            "width": null
          }
        },
        "3a93f5053a5e4b0189a5a28c61e73f19": {
          "model_module": "@jupyter-widgets/base",
          "model_name": "LayoutModel",
          "model_module_version": "1.2.0",
          "state": {
            "_model_module": "@jupyter-widgets/base",
            "_model_module_version": "1.2.0",
            "_model_name": "LayoutModel",
            "_view_count": null,
            "_view_module": "@jupyter-widgets/base",
            "_view_module_version": "1.2.0",
            "_view_name": "LayoutView",
            "align_content": null,
            "align_items": null,
            "align_self": null,
            "border": null,
            "bottom": null,
            "display": null,
            "flex": null,
            "flex_flow": null,
            "grid_area": null,
            "grid_auto_columns": null,
            "grid_auto_flow": null,
            "grid_auto_rows": null,
            "grid_column": null,
            "grid_gap": null,
            "grid_row": null,
            "grid_template_areas": null,
            "grid_template_columns": null,
            "grid_template_rows": null,
            "height": null,
            "justify_content": null,
            "justify_items": null,
            "left": null,
            "margin": null,
            "max_height": null,
            "max_width": null,
            "min_height": null,
            "min_width": null,
            "object_fit": null,
            "object_position": null,
            "order": null,
            "overflow": null,
            "overflow_x": null,
            "overflow_y": null,
            "padding": null,
            "right": null,
            "top": null,
            "visibility": null,
            "width": null
          }
        },
        "f876fd2f8e6f472db1370ca8fe7482c0": {
          "model_module": "@jupyter-widgets/controls",
          "model_name": "DescriptionStyleModel",
          "model_module_version": "1.5.0",
          "state": {
            "_model_module": "@jupyter-widgets/controls",
            "_model_module_version": "1.5.0",
            "_model_name": "DescriptionStyleModel",
            "_view_count": null,
            "_view_module": "@jupyter-widgets/base",
            "_view_module_version": "1.2.0",
            "_view_name": "StyleView",
            "description_width": ""
          }
        },
        "fc63e16467f54d3abc537e222ffe916f": {
          "model_module": "@jupyter-widgets/base",
          "model_name": "LayoutModel",
          "model_module_version": "1.2.0",
          "state": {
            "_model_module": "@jupyter-widgets/base",
            "_model_module_version": "1.2.0",
            "_model_name": "LayoutModel",
            "_view_count": null,
            "_view_module": "@jupyter-widgets/base",
            "_view_module_version": "1.2.0",
            "_view_name": "LayoutView",
            "align_content": null,
            "align_items": null,
            "align_self": null,
            "border": null,
            "bottom": null,
            "display": null,
            "flex": null,
            "flex_flow": null,
            "grid_area": null,
            "grid_auto_columns": null,
            "grid_auto_flow": null,
            "grid_auto_rows": null,
            "grid_column": null,
            "grid_gap": null,
            "grid_row": null,
            "grid_template_areas": null,
            "grid_template_columns": null,
            "grid_template_rows": null,
            "height": null,
            "justify_content": null,
            "justify_items": null,
            "left": null,
            "margin": null,
            "max_height": null,
            "max_width": null,
            "min_height": null,
            "min_width": null,
            "object_fit": null,
            "object_position": null,
            "order": null,
            "overflow": null,
            "overflow_x": null,
            "overflow_y": null,
            "padding": null,
            "right": null,
            "top": null,
            "visibility": null,
            "width": null
          }
        },
        "92788b5492dc4c22b5c269eaf3eb0bd2": {
          "model_module": "@jupyter-widgets/controls",
          "model_name": "ProgressStyleModel",
          "model_module_version": "1.5.0",
          "state": {
            "_model_module": "@jupyter-widgets/controls",
            "_model_module_version": "1.5.0",
            "_model_name": "ProgressStyleModel",
            "_view_count": null,
            "_view_module": "@jupyter-widgets/base",
            "_view_module_version": "1.2.0",
            "_view_name": "StyleView",
            "bar_color": null,
            "description_width": ""
          }
        },
        "34fe9c819a5045f2ba4458bd0dfb756f": {
          "model_module": "@jupyter-widgets/base",
          "model_name": "LayoutModel",
          "model_module_version": "1.2.0",
          "state": {
            "_model_module": "@jupyter-widgets/base",
            "_model_module_version": "1.2.0",
            "_model_name": "LayoutModel",
            "_view_count": null,
            "_view_module": "@jupyter-widgets/base",
            "_view_module_version": "1.2.0",
            "_view_name": "LayoutView",
            "align_content": null,
            "align_items": null,
            "align_self": null,
            "border": null,
            "bottom": null,
            "display": null,
            "flex": null,
            "flex_flow": null,
            "grid_area": null,
            "grid_auto_columns": null,
            "grid_auto_flow": null,
            "grid_auto_rows": null,
            "grid_column": null,
            "grid_gap": null,
            "grid_row": null,
            "grid_template_areas": null,
            "grid_template_columns": null,
            "grid_template_rows": null,
            "height": null,
            "justify_content": null,
            "justify_items": null,
            "left": null,
            "margin": null,
            "max_height": null,
            "max_width": null,
            "min_height": null,
            "min_width": null,
            "object_fit": null,
            "object_position": null,
            "order": null,
            "overflow": null,
            "overflow_x": null,
            "overflow_y": null,
            "padding": null,
            "right": null,
            "top": null,
            "visibility": null,
            "width": null
          }
        },
        "03338beffa5143fb96dda56ee12dd9fa": {
          "model_module": "@jupyter-widgets/controls",
          "model_name": "DescriptionStyleModel",
          "model_module_version": "1.5.0",
          "state": {
            "_model_module": "@jupyter-widgets/controls",
            "_model_module_version": "1.5.0",
            "_model_name": "DescriptionStyleModel",
            "_view_count": null,
            "_view_module": "@jupyter-widgets/base",
            "_view_module_version": "1.2.0",
            "_view_name": "StyleView",
            "description_width": ""
          }
        }
      }
    }
  },
  "cells": [
    {
      "cell_type": "markdown",
      "metadata": {
        "id": "m0ygrZd3dmu5"
      },
      "source": [
        "# Classifying Voice Commands\n",
        "\n",
        "For voice commands, Siri needs to be able to figure out *what* the speaker wants, and then *how* to accomplish that request.\n",
        "\n",
        "<img src=\"https://www.cheatsheet.com/wp-content/uploads/2016/01/Siri-in-iOS-9-640x305.png\" width=400>\n",
        "\n",
        "The focus of this notebook is predicting the 'what', in other words, the **intent** of a voice command.\n",
        "\n",
        "Remember that this is part (a) of our two-part goal.\n",
        "\n",
        "---"
      ]
    },
    {
      "cell_type": "markdown",
      "metadata": {
        "id": "dlE9nndIa-4-"
      },
      "source": [
        "In this notebook we'll be:\n",
        "*   Preprocessing the Dataset for the ML models\n",
        "*   Implementing a Pretrained BERT model"
      ]
    },
    {
      "cell_type": "markdown",
      "metadata": {
        "id": "irPDgkzsdguU"
      },
      "source": [
        "## Sentence Level Classification\n",
        "\n",
        "\n",
        "\n",
        "\n",
        "Here is where our friend BERT comes in to help us. As a reminder, **BERT** stands for **B**idirectional **E**ncoder **R**epresentations from **T**ransformers, and is a novel model architecture that uses both the left and right *context* words in a sequence to generate good embeddings for words.\n",
        "\n",
        "We can make use of existing Pytorch APIs for BERT that will allow us to convert our voice command sequence data into the format that the BERT model expects, and then use *pretrained* BERT for our classification task.\n",
        "\n",
        "<img src=\"https://pytorch.org/tutorials/_images/bert.png\" height=\"300\">\n",
        "\n",
        "Note that there are many available pretrained BERT models with varying attributes such as: the language of the corpus for training, how many layers and attention heads are used, if the corpus for pretraining contains uncased or cased words, and so on. We will use the cased BERT base, which is the architecture described in the [BERT lecture slides](https://docs.google.com/presentation/d/18prvH3n4kMyzMXVDRftWHnudSVrxCdUxod6axOKDtTo/edit?usp=sharing) (12 layers - 6 layers within the encoder and 6 layers within the decoder - and 12 attention heads), and is trained on cased English text.\n",
        "\n",
        "\n",
        "\n"
      ]
    },
    {
      "cell_type": "markdown",
      "metadata": {
        "id": "Nmzc3C9XkIKL"
      },
      "source": [
        "**IMPORTANT**: Since the BERT model we will be using in this notebook is so large, we need to do one step before continuing. Please go to the 'Runtime' tab, and click on 'Change Runtime Type'; then select **GPU** under the dropdown for Hardware accelerator."
      ]
    },
    {
      "cell_type": "code",
      "metadata": {
        "id": "PjzYKqcweS2F",
        "colab": {
          "base_uri": "https://localhost:8080/"
        },
        "outputId": "05251e8f-57e9-4d1f-841e-847cb520480e"
      },
      "source": [
        "#@title Run this code to get started\n",
        "%tensorflow_version 2.x\n",
        "%pip install -q transformers\n",
        "\n",
        "from urllib.request import urlretrieve\n",
        "from pathlib import Path\n",
        "import matplotlib.pyplot as plt\n",
        "import numpy as np\n",
        "import pandas as pd\n",
        "\n",
        "\n",
        "!wget -q --show-progress 'https://storage.googleapis.com/inspirit-ai-data-bucket-1/Data/AI%20Scholars/Sessions%206%20-%2010%20(Projects)/Project%20-%20Siri%20(Bert)%20Voice%20Commands/train'\n",
        "!wget -q --show-progress 'https://storage.googleapis.com/inspirit-ai-data-bucket-1/Data/AI%20Scholars/Sessions%206%20-%2010%20(Projects)/Project%20-%20Siri%20(Bert)%20Voice%20Commands/valid'\n",
        "!wget -q --show-progress 'https://storage.googleapis.com/inspirit-ai-data-bucket-1/Data/AI%20Scholars/Sessions%206%20-%2010%20(Projects)/Project%20-%20Siri%20(Bert)%20Voice%20Commands/test'\n",
        "!wget -q --show-progress 'https://storage.googleapis.com/inspirit-ai-data-bucket-1/Data/AI%20Scholars/Sessions%206%20-%2010%20(Projects)/Project%20-%20Siri%20(Bert)%20Voice%20Commands/vocab.intent'\n",
        "!wget -q --show-progress 'https://storage.googleapis.com/inspirit-ai-data-bucket-1/Data/AI%20Scholars/Sessions%206%20-%2010%20(Projects)/Project%20-%20Siri%20(Bert)%20Voice%20Commands/vocab.slot'\n",
        "\n",
        "def parse_line(line):\n",
        "    data, intent_label = line.split(\" <=> \")\n",
        "    items = data.split()\n",
        "    words = [item.rsplit(\":\", 1)[0]for item in items]\n",
        "    word_labels = [item.rsplit(\":\", 1)[1]for item in items]\n",
        "    return {\n",
        "        \"intent_label\": intent_label, ### YOUR CODE HERE ###,\n",
        "        \"words\": \" \".join(words),\n",
        "        \"word_labels\": \" \".join(word_labels), ### YOUR CODE HERE ###,\n",
        "        \"length\": len(words), ### YOUR CODE HERE ###,\n",
        "    }\n",
        "\n",
        "\n",
        "train_lines = Path(\"train\").read_text().strip().splitlines()\n",
        "valid_lines = Path(\"valid\").read_text().strip().splitlines()\n",
        "test_lines = Path(\"test\").read_text().strip().splitlines()\n",
        "\n",
        "df_train = pd.DataFrame([parse_line(line) for line in train_lines])\n",
        "df_valid = pd.DataFrame([parse_line(line) for line in valid_lines])\n",
        "df_test = pd.DataFrame([parse_line(line) for line in test_lines])"
      ],
      "execution_count": null,
      "outputs": [
        {
          "output_type": "stream",
          "name": "stdout",
          "text": [
            "Colab only includes TensorFlow 2.x; %tensorflow_version has no effect.\n",
            "\u001b[K     |████████████████████████████████| 4.7 MB 4.4 MB/s \n",
            "\u001b[K     |████████████████████████████████| 6.6 MB 31.6 MB/s \n",
            "\u001b[K     |████████████████████████████████| 596 kB 65.5 MB/s \n",
            "\u001b[K     |████████████████████████████████| 101 kB 8.4 MB/s \n",
            "train               100%[===================>]   1.71M  --.-KB/s    in 0.01s   \n",
            "valid               100%[===================>]  96.30K  --.-KB/s    in 0.001s  \n",
            "test                100%[===================>]  94.49K  --.-KB/s    in 0.001s  \n",
            "vocab.intent        100%[===================>]      99  --.-KB/s    in 0s      \n",
            "vocab.slot          100%[===================>]     994  --.-KB/s    in 0s      \n"
          ]
        }
      ]
    },
    {
      "cell_type": "markdown",
      "metadata": {
        "id": "PAc67kxQftEV"
      },
      "source": [
        "Remember that `df_train`, `df_valid`, and `df_test` are the Pandas Dataframes that store our training, validation, and test datapoints."
      ]
    },
    {
      "cell_type": "markdown",
      "metadata": {
        "id": "D0ZWheGxd5XT"
      },
      "source": [
        "### Step 1: Tokenize our Data\n",
        "\n",
        "BERT expects input sequences to be broken down into individual *tokens*; a `[CLS]` token marks the beginning and a `[SEP]` marks the end of a given sequence (as seen in the red input sentences in the image above).\n",
        "\n",
        "The `[CLS]` token is used by BERT for the pre-training task for sequence classification.\n",
        "\n",
        "The `[SEP]` token is a separator for the pre-training task that classifies if a pair of sentences are consecutive in a corpus or not, i.e. next sentence prediction (NSP)."
      ]
    },
    {
      "cell_type": "code",
      "metadata": {
        "id": "2VLvVuJUchlR",
        "colab": {
          "base_uri": "https://localhost:8080/",
          "height": 113,
          "referenced_widgets": [
            "21a63d5f98404745a6eea75a85cabef2",
            "5293267b44e548fe9c57f0dfd3751b22",
            "55cb81cebbc64703bfd7b39ba228ea6c",
            "c9d12f59b2f04713ba4ed296bb4b2718",
            "f45db2b99ed546b59fce276a1cecd856",
            "f71db0b1a264427ab10df07aacc744ff",
            "cc0f1ddd481d448b9b8ef3e4cb726d0a",
            "0f4af88c77d748299baa78ed02c70667",
            "0a2b8ea9da524a7889949b4decee2ab4",
            "207bcf4c6294469da17050551d248d50",
            "47c7194c5cc34fcdbc6a27b0ac7e24aa",
            "a0b1601cafce4f05bf727ebd0caf0bc2",
            "76ac8fdd6335426cbeebbd3a31e646bf",
            "24ae0cbdac964d8aaa57a725c56b4197",
            "b021d300c12f458fb39e3fc39b222a23",
            "7ac4363a54e24d6c9e55024c1f6d8786",
            "1bf842bd298f47d4a404468dc91914b3",
            "953d98ff341f44c1a7612e707dc1e66f",
            "bcadd05bcc6a4df18e32c7331bac8b7a",
            "ea37a12d5c0f440881f15dc68b3a841b",
            "27c4be0d147d493396488de82f6b1592",
            "95bbd28d3a6a4c879156a4a598763214",
            "00673a20e9f241298043c1e2dbf0a3b7",
            "d364790f9ac246e2982dfc4017144fb8",
            "486a784f08cf49f0b6d8f7aba6621f22",
            "5f751f7762214b3ab48512f712e626fb",
            "28b1e9a5eee4443abc1882dd425a3b8d",
            "3a93f5053a5e4b0189a5a28c61e73f19",
            "f876fd2f8e6f472db1370ca8fe7482c0",
            "fc63e16467f54d3abc537e222ffe916f",
            "92788b5492dc4c22b5c269eaf3eb0bd2",
            "34fe9c819a5045f2ba4458bd0dfb756f",
            "03338beffa5143fb96dda56ee12dd9fa"
          ]
        },
        "outputId": "df6dc972-c018-453b-818c-2a34eeb9b97a"
      },
      "source": [
        "# Import the BERT tokenizer and utilize the BERT base pretrained model\n",
        "from transformers import BertTokenizer\n",
        "\n",
        "model_name = \"bert-base-cased\"\n",
        "tokenizer = BertTokenizer.from_pretrained(model_name)"
      ],
      "execution_count": null,
      "outputs": [
        {
          "output_type": "display_data",
          "data": {
            "text/plain": [
              "Downloading vocab.txt:   0%|          | 0.00/208k [00:00<?, ?B/s]"
            ],
            "application/vnd.jupyter.widget-view+json": {
              "version_major": 2,
              "version_minor": 0,
              "model_id": "21a63d5f98404745a6eea75a85cabef2"
            }
          },
          "metadata": {}
        },
        {
          "output_type": "display_data",
          "data": {
            "text/plain": [
              "Downloading tokenizer_config.json:   0%|          | 0.00/29.0 [00:00<?, ?B/s]"
            ],
            "application/vnd.jupyter.widget-view+json": {
              "version_major": 2,
              "version_minor": 0,
              "model_id": "a0b1601cafce4f05bf727ebd0caf0bc2"
            }
          },
          "metadata": {}
        },
        {
          "output_type": "display_data",
          "data": {
            "text/plain": [
              "Downloading config.json:   0%|          | 0.00/570 [00:00<?, ?B/s]"
            ],
            "application/vnd.jupyter.widget-view+json": {
              "version_major": 2,
              "version_minor": 0,
              "model_id": "00673a20e9f241298043c1e2dbf0a3b7"
            }
          },
          "metadata": {}
        }
      ]
    },
    {
      "cell_type": "markdown",
      "metadata": {
        "id": "CPdGS07td863"
      },
      "source": [
        "How many unique tokens in this BERT model are there?"
      ]
    },
    {
      "cell_type": "code",
      "metadata": {
        "id": "NDKUw6svd9Im",
        "colab": {
          "base_uri": "https://localhost:8080/"
        },
        "outputId": "b7447ac0-b1c0-4d23-9104-f04a79431229"
      },
      "source": [
        "tokenizer.vocab_size"
      ],
      "execution_count": null,
      "outputs": [
        {
          "output_type": "execute_result",
          "data": {
            "text/plain": [
              "28996"
            ]
          },
          "metadata": {},
          "execution_count": 3
        }
      ]
    },
    {
      "cell_type": "markdown",
      "source": [
        "Even though there are 400,000+ plus words, Bert only uses the root words, and removes some words, that's why there are like close to 30,000 words in here."
      ],
      "metadata": {
        "id": "mW3zrBnJ4XbQ"
      }
    },
    {
      "cell_type": "markdown",
      "metadata": {
        "id": "C7gd0Pw8eA7B"
      },
      "source": [
        "Wow - there's roughly 30k tokens that BERT knows! <img src=\"https://i7.pngguru.com/preview/625/201/218/emoji-iphone-computer-icons-clip-art-emoji-thumbnail.jpg\" width=20>\n",
        "\n",
        "Let's see exactly how the BERT tokenizer works on one training example."
      ]
    },
    {
      "cell_type": "code",
      "metadata": {
        "id": "wf4zLAdaeBR1",
        "colab": {
          "base_uri": "https://localhost:8080/"
        },
        "outputId": "fbfb007c-419a-4b9c-c9c9-0989ee9bbef8"
      },
      "source": [
        "# Print the first training data sequence\n",
        "first_sentence = df_train.iloc[0][\"words\"]\n",
        "print(first_sentence)\n",
        "print(\"This sentence contains {} words.\".format(len(first_sentence.split(\" \"))))"
      ],
      "execution_count": null,
      "outputs": [
        {
          "output_type": "stream",
          "name": "stdout",
          "text": [
            "Add Don and Sherri to my Meditate to Sounds of Nature playlist\n",
            "This sentence contains 12 words.\n"
          ]
        }
      ]
    },
    {
      "cell_type": "code",
      "metadata": {
        "id": "kusXEf2JeFDg",
        "colab": {
          "base_uri": "https://localhost:8080/",
          "height": 495
        },
        "outputId": "c24c22c8-79a8-4b23-9bb2-8a9a42e77c57"
      },
      "source": [
        "tokens = tokenizer.tokenize(first_sentence)\n",
        "for t in tokens:\n",
        "  print(t)\n",
        "print(\"\\nThis sentence turns into {} tokens.\".format(len(tokens)))"
      ],
      "execution_count": null,
      "outputs": [
        {
          "output_type": "stream",
          "name": "stdout",
          "text": [
            "Ad\n",
            "##d\n",
            "Don\n",
            "and\n",
            "She\n",
            "##rri\n",
            "to\n",
            "my\n",
            "Me\n",
            "##dit\n",
            "##ate\n",
            "to\n",
            "Sounds\n",
            "of\n",
            "Nature\n",
            "play\n",
            "##list\n"
          ]
        },
        {
          "output_type": "error",
          "ename": "TypeError",
          "evalue": "ignored",
          "traceback": [
            "\u001b[0;31m---------------------------------------------------------------------------\u001b[0m",
            "\u001b[0;31mTypeError\u001b[0m                                 Traceback (most recent call last)",
            "\u001b[0;32m<ipython-input-18-b177502bfa6c>\u001b[0m in \u001b[0;36m<module>\u001b[0;34m()\u001b[0m\n\u001b[1;32m      2\u001b[0m \u001b[0;32mfor\u001b[0m \u001b[0mt\u001b[0m \u001b[0;32min\u001b[0m \u001b[0mtokens\u001b[0m\u001b[0;34m:\u001b[0m\u001b[0;34m\u001b[0m\u001b[0;34m\u001b[0m\u001b[0m\n\u001b[1;32m      3\u001b[0m   \u001b[0mprint\u001b[0m\u001b[0;34m(\u001b[0m\u001b[0mt\u001b[0m\u001b[0;34m)\u001b[0m\u001b[0;34m\u001b[0m\u001b[0;34m\u001b[0m\u001b[0m\n\u001b[0;32m----> 4\u001b[0;31m \u001b[0mprint\u001b[0m\u001b[0;34m(\u001b[0m\u001b[0;34m\"\\nThis sentence turns into {} tokens.\"\u001b[0m\u001b[0;34m.\u001b[0m\u001b[0mformat\u001b[0m\u001b[0;34m(\u001b[0m\u001b[0mlen\u001b[0m\u001b[0;34m(\u001b[0m\u001b[0mtokens\u001b[0m\u001b[0;34m)\u001b[0m\u001b[0;34m)\u001b[0m\u001b[0;34m)\u001b[0m\u001b[0;34m\u001b[0m\u001b[0;34m\u001b[0m\u001b[0m\n\u001b[0m",
            "\u001b[0;31mTypeError\u001b[0m: 'list' object is not callable"
          ]
        }
      ]
    },
    {
      "cell_type": "markdown",
      "metadata": {
        "id": "rUUM0qHugJcw"
      },
      "source": [
        "Hmmm, why are there 17 *tokens* now but only 12 *words* within the original sequence.\n",
        "\n",
        "It's because BERT uses something called subword tokenization!\n",
        "\n",
        "**Subword tokenization** may break some words into smaller units and doesn't always use a 1:1 mapping of words to tokens. Because of subword tokenization within BERT, the length of tokenized sentences is likely to be larger than the original number of words in the sentence.\n",
        "\n",
        "**Discuss:**\n",
        "\n",
        "Why is it interesting and useful to use subword tokenization for generic language models such as BERT?"
      ]
    },
    {
      "cell_type": "markdown",
      "metadata": {
        "id": "gJGWM5J-gOZV"
      },
      "source": [
        "### Step 2: Encoding Tokens\n",
        "\n",
        "Each token is mapped to a unique integer id that makes it fast to lookup the correct column in the input layer token embedding (seen in yellow below).\n",
        "\n",
        "<img src=\"https://miro.medium.com/max/1496/1*fywysLzEbXxEqkPeIUWaJw.png\" width=\"500\">"
      ]
    },
    {
      "cell_type": "code",
      "metadata": {
        "id": "_3yBoMYqgG0R",
        "colab": {
          "base_uri": "https://localhost:8080/"
        },
        "outputId": "ebd6e1b3-c7b6-4300-b21e-aa429ff6c9b6"
      },
      "source": [
        "# See the first 10 (token,id) pairs within BERT.\n",
        "bert_vocab_items = list(tokenizer.vocab.items())\n",
        "bert_vocab_items[:10]"
      ],
      "execution_count": null,
      "outputs": [
        {
          "output_type": "execute_result",
          "data": {
            "text/plain": [
              "[('[PAD]', 0),\n",
              " ('[unused1]', 1),\n",
              " ('[unused2]', 2),\n",
              " ('[unused3]', 3),\n",
              " ('[unused4]', 4),\n",
              " ('[unused5]', 5),\n",
              " ('[unused6]', 6),\n",
              " ('[unused7]', 7),\n",
              " ('[unused8]', 8),\n",
              " ('[unused9]', 9)]"
            ]
          },
          "metadata": {},
          "execution_count": 13
        }
      ]
    },
    {
      "cell_type": "code",
      "metadata": {
        "id": "TOnuTWJvgQ7P",
        "colab": {
          "base_uri": "https://localhost:8080/"
        },
        "outputId": "87737cd7-1043-4de5-e511-5ca96cf26a67"
      },
      "source": [
        "# See more (token,id) examples within BERT's vocab.\n",
        "bert_vocab_items[1100:1110]"
      ],
      "execution_count": null,
      "outputs": [
        {
          "output_type": "execute_result",
          "data": {
            "text/plain": [
              "[('－', 1100),\n",
              " ('／', 1101),\n",
              " ('：', 1102),\n",
              " ('the', 1103),\n",
              " ('of', 1104),\n",
              " ('and', 1105),\n",
              " ('to', 1106),\n",
              " ('in', 1107),\n",
              " ('was', 1108),\n",
              " ('The', 1109)]"
            ]
          },
          "metadata": {},
          "execution_count": 14
        }
      ]
    },
    {
      "cell_type": "code",
      "metadata": {
        "id": "ZjTk9qkyvViH",
        "colab": {
          "base_uri": "https://localhost:8080/"
        },
        "outputId": "a2c09c02-d7f9-4a26-a8bc-a3af809c3cd7"
      },
      "source": [
        "# Why are these tokens interesting?\n",
        "bert_vocab_items[100:104]"
      ],
      "execution_count": null,
      "outputs": [
        {
          "output_type": "execute_result",
          "data": {
            "text/plain": [
              "[('[UNK]', 100), ('[CLS]', 101), ('[SEP]', 102), ('[MASK]', 103)]"
            ]
          },
          "metadata": {},
          "execution_count": 15
        }
      ]
    },
    {
      "cell_type": "markdown",
      "metadata": {
        "id": "1RJypthuvYns"
      },
      "source": [
        "(The `[UNK]` token is used to replace tokens that BERT doesn't recognize. If there is no way to split a word into subtokens, the whole word becomes `[UNK]`.)\n",
        "\n",
        "`[CLS]` marks the beginning of a sentence, and `[SEP]` marks the end.\n",
        "\n",
        "`[MASK]` is used by BERT in the pre-training task called MLM (Masked Language Model) where it learns to predict the original word if it's masked out in a sentence."
      ]
    },
    {
      "cell_type": "markdown",
      "metadata": {
        "id": "qbCq5LpQgVkF"
      },
      "source": [
        "Let's analyze the first training sequence again."
      ]
    },
    {
      "cell_type": "code",
      "metadata": {
        "id": "_pQUHmuDgSyn",
        "colab": {
          "base_uri": "https://localhost:8080/"
        },
        "outputId": "b0b35563-309f-4252-ba1e-ac2cca166d41"
      },
      "source": [
        "# See the integer indexes for the token embeddings of the first sentence.\n",
        "idxs = tokenizer.encode(first_sentence)\n",
        "print(len(idxs))\n",
        "print(idxs)"
      ],
      "execution_count": null,
      "outputs": [
        {
          "output_type": "stream",
          "name": "stdout",
          "text": [
            "19\n",
            "[101, 24930, 1181, 1790, 1105, 1153, 14791, 1106, 1139, 2508, 17903, 2193, 1106, 10560, 1104, 7009, 1505, 7276, 102]\n"
          ]
        }
      ]
    },
    {
      "cell_type": "code",
      "metadata": {
        "id": "Ht-HqEmMgXZy",
        "colab": {
          "base_uri": "https://localhost:8080/",
          "height": 35
        },
        "outputId": "71d5ebf9-221f-40b1-f7a8-fe6ba78ff90d"
      },
      "source": [
        "# Decode the encoding, which should produce the original sequence.\n",
        "tokenizer.decode(idxs)"
      ],
      "execution_count": null,
      "outputs": [
        {
          "output_type": "execute_result",
          "data": {
            "text/plain": [
              "'[CLS] Add Don and Sherri to my Meditate to Sounds of Nature playlist [SEP]'"
            ],
            "application/vnd.google.colaboratory.intrinsic+json": {
              "type": "string"
            }
          },
          "metadata": {},
          "execution_count": 12
        }
      ]
    },
    {
      "cell_type": "markdown",
      "metadata": {
        "id": "FzWrP7kYgdVo"
      },
      "source": [
        "### Step 3: Padding Tokenized Sequences"
      ]
    },
    {
      "cell_type": "markdown",
      "metadata": {
        "id": "0XlouEr3ggRN"
      },
      "source": [
        "#### Exercise 1\n",
        "\n",
        "In the Training Data Analysis section of the 1st notebook, we created a histogram according to the lengths of training sequences. Let's take a look at the histogram of the **tokenized** sequences now."
      ]
    },
    {
      "cell_type": "code",
      "metadata": {
        "id": "uUSq9VhTggmm",
        "colab": {
          "base_uri": "https://localhost:8080/",
          "height": 235
        },
        "outputId": "7cc0c3f2-170e-4811-b440-d932bcad3110"
      },
      "source": [
        "# Print histogram of training tokenized sequence lengths.\n",
        "# Hint: use tokenizer.encode on every sequence within df_train\n",
        "# & get the lengths; then use plt.hist()\n",
        "all_tokens = []\n",
        "lengths = []\n",
        "i = 0\n",
        "for x in df_train[\"words\"]:\n",
        "  all = df_train.iloc[i][\"words\"]\n",
        "  all_tokens.append(tokenizer.encode(all))\n",
        "  i += 1\n",
        "l = 0\n",
        "for z in all_tokens:\n",
        "  lengths.append(len(all_tokens[l]))\n",
        "  l += 1\n",
        "train_sequence_lengths = lengths\n",
        "plt.hist(train_sequence_lengths)\n",
        "\n",
        "train_sequence_lengths = lengths\n",
        "plt.hist(train_sequence_lengths)\n",
        "plt.xlabel(\"Number of tokens per sequence\")\n",
        "plt.ylabel(\"Count of sequences\")\n",
        "plt.title(\"Token Sequence Length Histogram\")\n",
        "plt.show()"
      ],
      "execution_count": null,
      "outputs": [
        {
          "output_type": "error",
          "ename": "TypeError",
          "evalue": "ignored",
          "traceback": [
            "\u001b[0;31m---------------------------------------------------------------------------\u001b[0m",
            "\u001b[0;31mTypeError\u001b[0m                                 Traceback (most recent call last)",
            "\u001b[0;32m<ipython-input-11-57ab5f17472f>\u001b[0m in \u001b[0;36m<module>\u001b[0;34m()\u001b[0m\n\u001b[1;32m     11\u001b[0m \u001b[0ml\u001b[0m \u001b[0;34m=\u001b[0m \u001b[0;36m0\u001b[0m\u001b[0;34m\u001b[0m\u001b[0;34m\u001b[0m\u001b[0m\n\u001b[1;32m     12\u001b[0m \u001b[0;32mfor\u001b[0m \u001b[0mz\u001b[0m \u001b[0;32min\u001b[0m \u001b[0mall_tokens\u001b[0m\u001b[0;34m:\u001b[0m\u001b[0;34m\u001b[0m\u001b[0;34m\u001b[0m\u001b[0m\n\u001b[0;32m---> 13\u001b[0;31m   \u001b[0mlengths\u001b[0m\u001b[0;34m.\u001b[0m\u001b[0mappend\u001b[0m\u001b[0;34m(\u001b[0m\u001b[0mlen\u001b[0m\u001b[0;34m(\u001b[0m\u001b[0mall_tokens\u001b[0m\u001b[0;34m[\u001b[0m\u001b[0ml\u001b[0m\u001b[0;34m]\u001b[0m\u001b[0;34m)\u001b[0m\u001b[0;34m)\u001b[0m\u001b[0;34m\u001b[0m\u001b[0;34m\u001b[0m\u001b[0m\n\u001b[0m\u001b[1;32m     14\u001b[0m   \u001b[0ml\u001b[0m \u001b[0;34m+=\u001b[0m \u001b[0;36m1\u001b[0m\u001b[0;34m\u001b[0m\u001b[0;34m\u001b[0m\u001b[0m\n\u001b[1;32m     15\u001b[0m \u001b[0mtrain_sequence_lengths\u001b[0m \u001b[0;34m=\u001b[0m \u001b[0mlengths\u001b[0m\u001b[0;34m\u001b[0m\u001b[0;34m\u001b[0m\u001b[0m\n",
            "\u001b[0;31mTypeError\u001b[0m: 'list' object is not callable"
          ]
        }
      ]
    },
    {
      "cell_type": "markdown",
      "metadata": {
        "id": "KN_8RLj2hRiD"
      },
      "source": [
        "What is the maximum length of any given tokenized training sequence?\n",
        "\n",
        "*Remember that the maximum of the original voice command lengths was 35 words per sequence.*"
      ]
    },
    {
      "cell_type": "code",
      "metadata": {
        "id": "6Os61ui7hPxH",
        "colab": {
          "base_uri": "https://localhost:8080/"
        },
        "outputId": "7d10f97f-222f-446f-9432-a215b0b382d7"
      },
      "source": [
        "max_token_len = max(train_sequence_lengths)\n",
        "print(\"Maximum tokenized sequence length: {} tokens per sequence\".format(max_token_len))"
      ],
      "execution_count": null,
      "outputs": [
        {
          "output_type": "stream",
          "name": "stdout",
          "text": [
            "Maximum tokenized sequence length: 43 tokens per sequence\n"
          ]
        }
      ]
    },
    {
      "cell_type": "markdown",
      "metadata": {
        "id": "SyCTT3WPhpec"
      },
      "source": [
        "**Transfer learning**, i.e. using *pretrained* BERT applied to our new dataset and sentiment classification task, requires that the sequences are **padded**, which means they all have the same length.\n",
        "\n",
        "The above histogram shows that after tokenization, 43 tokens is long enough to represent all the voice commands in the training set."
      ]
    },
    {
      "cell_type": "markdown",
      "metadata": {
        "id": "6LoeTBKEhrev"
      },
      "source": [
        "### Preprocessing Full Dataset\n",
        "\n",
        "<img src=\"https://miro.medium.com/max/2152/1*vNGH3DTu83pZr3gVHsz7yg.png\" width=500>\n"
      ]
    },
    {
      "cell_type": "markdown",
      "metadata": {
        "id": "ZJGK5kL9xHtH"
      },
      "source": [
        "Let's now encode the full train, validation, and test sets with the BERT tokenizer to get padded integer numpy arrays."
      ]
    },
    {
      "cell_type": "code",
      "metadata": {
        "id": "nFDJmLtghpuX"
      },
      "source": [
        "def encode_dataset(text_sequences):\n",
        "    # Create token_ids array (initialized to all zeros), where\n",
        "    # rows are a sequence and columns are encoding ids\n",
        "    # of each token in given sequence.\n",
        "    token_ids = np.zeros(shape=(len(text_sequences), max_token_len),\n",
        "                         dtype=np.int32)\n",
        "\n",
        "    for i, text_sequence in enumerate(text_sequences):\n",
        "        encoded = tokenizer.encode(text_sequence)\n",
        "        token_ids[i, 0:len(encoded)] = encoded\n",
        "\n",
        "    attention_masks = (token_ids != 0).astype(np.int32)\n",
        "    return {\"input_ids\": token_ids, \"attention_masks\": attention_masks}"
      ],
      "execution_count": null,
      "outputs": []
    },
    {
      "cell_type": "code",
      "metadata": {
        "id": "fJ2GF91YhvIB"
      },
      "source": [
        "encoded_train = encode_dataset(df_train[\"words\"])"
      ],
      "execution_count": null,
      "outputs": []
    },
    {
      "cell_type": "markdown",
      "metadata": {
        "id": "zlfF7RWKh5rV"
      },
      "source": [
        "Let's see what the output of the function `encode_dataset` is on the training data:"
      ]
    },
    {
      "cell_type": "code",
      "metadata": {
        "id": "qA4uyGmrhwqq",
        "colab": {
          "base_uri": "https://localhost:8080/"
        },
        "outputId": "cb535de6-b76b-4efb-c205-b2b9c023c35a"
      },
      "source": [
        "encoded_train[\"input_ids\"]"
      ],
      "execution_count": null,
      "outputs": [
        {
          "output_type": "execute_result",
          "data": {
            "text/plain": [
              "array([[  101, 24930,  1181, ...,     0,     0,     0],\n",
              "       [  101,  1508,  1244, ...,     0,     0,     0],\n",
              "       [  101,  5194,  1103, ...,     0,     0,     0],\n",
              "       ...,\n",
              "       [  101, 27640,  1116, ...,     0,     0,     0],\n",
              "       [  101,  5979,  6608, ...,     0,     0,     0],\n",
              "       [  101,  1327,  2523, ...,     0,     0,     0]], dtype=int32)"
            ]
          },
          "metadata": {},
          "execution_count": 33
        }
      ]
    },
    {
      "cell_type": "code",
      "metadata": {
        "id": "ExBeEvwQh7h-",
        "colab": {
          "base_uri": "https://localhost:8080/"
        },
        "outputId": "fd34ff1f-4012-446b-cf06-80c924b9db83"
      },
      "source": [
        "encoded_train[\"attention_masks\"]"
      ],
      "execution_count": null,
      "outputs": [
        {
          "output_type": "execute_result",
          "data": {
            "text/plain": [
              "array([[1, 1, 1, ..., 0, 0, 0],\n",
              "       [1, 1, 1, ..., 0, 0, 0],\n",
              "       [1, 1, 1, ..., 0, 0, 0],\n",
              "       ...,\n",
              "       [1, 1, 1, ..., 0, 0, 0],\n",
              "       [1, 1, 1, ..., 0, 0, 0],\n",
              "       [1, 1, 1, ..., 0, 0, 0]], dtype=int32)"
            ]
          },
          "metadata": {},
          "execution_count": 34
        }
      ]
    },
    {
      "cell_type": "markdown",
      "metadata": {
        "id": "pD13PjPih-2A"
      },
      "source": [
        "**Discuss**:\n",
        "\n",
        "What is the purpose of the attention_masks array?\n",
        "(Hint: Think about what each row and column corresponds to).\n"
      ]
    },
    {
      "cell_type": "markdown",
      "metadata": {
        "id": "KSEQpuOSiAtp"
      },
      "source": [
        "#### Exercise 2\n",
        "\n",
        "Let's also create the encoding id and attention mask arrays for the validation and test sets:"
      ]
    },
    {
      "cell_type": "code",
      "metadata": {
        "id": "KsHrCy2miCag"
      },
      "source": [
        "# Create the necessary np arrays using the encode_dataset function\n",
        "# and store your results in encoded_valid, and encoded_test.\n",
        "\n",
        "### YOUR CODE HERE ###\n",
        "encoded_valid = encode_dataset(df_valid[\"words\"])\n",
        "encoded_test = encode_dataset(df_test[\"words\"])"
      ],
      "execution_count": null,
      "outputs": []
    },
    {
      "cell_type": "markdown",
      "metadata": {
        "id": "kPj_8jJPiKIf"
      },
      "source": [
        "#### Encoding the Sequence Classification Targets\n",
        "\n",
        "Aside from encodings of the tokenized word sequences, we also need to get the encodings of the target intent classification labels."
      ]
    },
    {
      "cell_type": "code",
      "metadata": {
        "id": "t-eOu3PbiKWx",
        "colab": {
          "base_uri": "https://localhost:8080/"
        },
        "outputId": "d1e242cd-dc99-4d7b-a411-3ca20ed707e9"
      },
      "source": [
        "# Build a map from target intent label to a unique id.\n",
        "intent_names = Path(\"vocab.intent\").read_text().split()\n",
        "intent_map = dict((label, idx) for idx, label in enumerate(intent_names))\n",
        "intent_map"
      ],
      "execution_count": null,
      "outputs": [
        {
          "output_type": "execute_result",
          "data": {
            "text/plain": [
              "{'AddToPlaylist': 0,\n",
              " 'BookRestaurant': 1,\n",
              " 'GetWeather': 2,\n",
              " 'PlayMusic': 3,\n",
              " 'RateBook': 4,\n",
              " 'SearchCreativeWork': 5,\n",
              " 'SearchScreeningEvent': 6}"
            ]
          },
          "metadata": {},
          "execution_count": 36
        }
      ]
    },
    {
      "cell_type": "code",
      "metadata": {
        "id": "v5bTeYoRiNVQ",
        "colab": {
          "base_uri": "https://localhost:8080/"
        },
        "outputId": "2bb2eb96-50d8-4bed-d4ff-3ef65edabd21"
      },
      "source": [
        "# Convert list of target labels into their corresponding unique id.\n",
        "intent_train = df_train[\"intent_label\"].map(intent_map).values\n",
        "intent_train"
      ],
      "execution_count": null,
      "outputs": [
        {
          "output_type": "execute_result",
          "data": {
            "text/plain": [
              "array([0, 0, 0, ..., 6, 6, 6])"
            ]
          },
          "metadata": {},
          "execution_count": 37
        }
      ]
    },
    {
      "cell_type": "code",
      "metadata": {
        "id": "qnzGflSGiPC0",
        "colab": {
          "base_uri": "https://localhost:8080/"
        },
        "outputId": "76fabda2-6603-4037-f408-fd32048d5544"
      },
      "source": [
        "# Sanity check: the number of sentences that belongs to each class\n",
        "for i in range(7):\n",
        "  print(len(intent_train[intent_train == i]))"
      ],
      "execution_count": null,
      "outputs": [
        {
          "output_type": "stream",
          "name": "stdout",
          "text": [
            "1842\n",
            "1873\n",
            "1900\n",
            "1900\n",
            "1856\n",
            "1854\n",
            "1859\n"
          ]
        }
      ]
    },
    {
      "cell_type": "markdown",
      "metadata": {
        "id": "nbY64mzriRb6"
      },
      "source": [
        "<img src=\"https://drive.google.com/uc?id=1i9qommblASpRkuJWCtyRo2E1xYd7IgfA\" height=\"200\">\n",
        "\n",
        "Great! This is the same as we found within the first notebook (screenshot of that output above)."
      ]
    },
    {
      "cell_type": "markdown",
      "metadata": {
        "id": "w6WNpz_1iZ1m"
      },
      "source": [
        "##### Exercise 3\n",
        "\n",
        "Lastly, we need to encode the intent labels for the validation and training sets as well."
      ]
    },
    {
      "cell_type": "code",
      "metadata": {
        "id": "YjouAdSiiRtp"
      },
      "source": [
        "# Create two variables named intent_valid and intent_test\n",
        "# Hint: look at how intent_train is defined a few cells above.\n",
        "\n",
        "### YOUR CODE HERE ###"
      ],
      "execution_count": null,
      "outputs": []
    },
    {
      "cell_type": "markdown",
      "metadata": {
        "id": "LBNRFoRIihgh"
      },
      "source": [
        "### Using a Pretrained BERT model\n",
        "\n",
        "Yay - we have all the pre-processing steps done! Now it's time to explore pretrained BERT. <img src=\"https://i.pinimg.com/originals/58/e9/78/58e97802c32da4c19d8429823c3201c2.jpg\" width=25>"
      ]
    },
    {
      "cell_type": "code",
      "metadata": {
        "id": "QdsPIw6Uih_d"
      },
      "source": [
        "from transformers import TFBertModel\n",
        "\n",
        "# recall that we earlier defined model_name to be \"bert-base-cased\"\n",
        "base_bert_model = TFBertModel.from_pretrained(model_name)\n",
        "base_bert_model.summary()"
      ],
      "execution_count": null,
      "outputs": []
    },
    {
      "cell_type": "markdown",
      "metadata": {
        "id": "vumnko-qiy-F"
      },
      "source": [
        "Let's see what the pretrained BERT model outputs when we feed it our encoded validation set:"
      ]
    },
    {
      "cell_type": "code",
      "metadata": {
        "id": "jZEJmpSPjQyT"
      },
      "source": [
        "# Note: This cell might take a bit of time to run.\n",
        "outputs = base_bert_model(encoded_valid[\"input_ids\"])\n",
        "len(outputs)"
      ],
      "execution_count": null,
      "outputs": []
    },
    {
      "cell_type": "code",
      "metadata": {
        "id": "FZVA5Cm7jTgU"
      },
      "source": [
        "print(encoded_valid.values())"
      ],
      "execution_count": null,
      "outputs": []
    },
    {
      "cell_type": "markdown",
      "metadata": {
        "id": "fQlDWVZdnYZZ"
      },
      "source": [
        "#### Outputs of BERT\n",
        "\n",
        "We can see that there are two outputs from the BERT model.\n",
        "\n",
        "\n",
        "1. The **first** output of the BERT model is a tensor with shape: `(batch_size, seq_len, output_dim)` which computes **features for each token in the input sequence**"
      ]
    },
    {
      "cell_type": "code",
      "metadata": {
        "id": "M5DDe2kanYy4"
      },
      "source": [
        "token_features = outputs[0]\n",
        "token_features.shape"
      ],
      "execution_count": null,
      "outputs": []
    },
    {
      "cell_type": "markdown",
      "metadata": {
        "id": "WED3ODi-n5Zx"
      },
      "source": [
        "Note that `seq_len` is `max_token_len` (ie. 43)."
      ]
    },
    {
      "cell_type": "markdown",
      "metadata": {
        "id": "Ik14njDsn7Uf"
      },
      "source": [
        "\n",
        "2.\n",
        "\n",
        "The **second** output of the BERT model is a tensor with shape: `(batch_size, output_dim)` which is the feature vector of `[CLS]`. This vector is typically used as a **pooled representation for the sequence as a whole**. We can use this as the features of our intent classifier"
      ]
    },
    {
      "cell_type": "code",
      "metadata": {
        "id": "kxpxokzpnaVv"
      },
      "source": [
        "sentence_representation = outputs[1]\n",
        "sentence_representation.shape"
      ],
      "execution_count": null,
      "outputs": []
    },
    {
      "cell_type": "markdown",
      "metadata": {
        "id": "EDNxGswlga65"
      },
      "source": [
        "Remember that our goal is to use BERT to compute some **representation** of a single voice command at a time.\n",
        "\n",
        "We have two options to obtain this sentence-level representation, which is used as the input for the final sequence classification layer:\n",
        "\n",
        "1. We can reuse the representation of the `[CLS]` token.\n",
        "\n",
        "or\n",
        "\n",
        "2. We can pool the representations (encodings) of all the tokens within the sequence (i.e. global average)."
      ]
    },
    {
      "cell_type": "markdown",
      "metadata": {
        "id": "S6Fh7rYXzhaK"
      },
      "source": [
        "#### Pooled Representation"
      ]
    },
    {
      "cell_type": "markdown",
      "metadata": {
        "id": "t3u4v-8In_KG"
      },
      "source": [
        "The pooled output comes from the application of a small multi-layer-perception (MLP) layer called the \"Pooler\" which is applied to the output representation of the special `[CLS]` token.\n",
        "\n",
        "<img src=\"https://miro.medium.com/max/3446/1*-IPQlOd46dlsutIbUq1Zcw.png\" width=300>"
      ]
    },
    {
      "cell_type": "code",
      "metadata": {
        "id": "qhZE-GFLn_7w"
      },
      "source": [
        "base_bert_model.bert.pooler.dense"
      ],
      "execution_count": null,
      "outputs": []
    },
    {
      "cell_type": "code",
      "metadata": {
        "id": "lxopUQmroBXy"
      },
      "source": [
        "# Extract the features across all batches for the 0th ([CLS]) token\n",
        "first_token_states = token_features[:, 0]\n",
        "pooled_outputs = base_bert_model.bert.pooler.dense(first_token_states)\n",
        "pooled_outputs.shape"
      ],
      "execution_count": null,
      "outputs": []
    },
    {
      "cell_type": "markdown",
      "metadata": {
        "id": "VROGcIWBoFTL"
      },
      "source": [
        "Now let's double-check that taking this route of extracting all of the token features for `[CLS]` and passing it through the \"Pooler\" results in close to the same output as using simply the `sentence_representation`.\n",
        "\n",
        "Take a look at the [documentation](https://numpy.org/doc/1.18/reference/generated/numpy.allclose.html) for the `allclose` function used below if you're interested."
      ]
    },
    {
      "cell_type": "code",
      "metadata": {
        "id": "L0cjv9IMoCyY"
      },
      "source": [
        "np.allclose(pooled_outputs, sentence_representation)"
      ],
      "execution_count": null,
      "outputs": []
    },
    {
      "cell_type": "markdown",
      "metadata": {
        "id": "FDQc9ZhgoJkW"
      },
      "source": [
        "### Exercise 4\n",
        "\n",
        "Time to make classifications!\n",
        "\n",
        "Let's finish filling out the following code template to build and train a **sequence classification model** to predict the **intent class** of voice commands.\n",
        "\n",
        "Remember: we're currently only considering the pooled sentence features and ignoring the token-wise features for now.\n",
        "\n",
        "Documentation for a [Dropout](https://www.tensorflow.org/api_docs/python/tf/keras/layers/Dropout) and [Dense](https://www.tensorflow.org/api_docs/python/tf/keras/layers/Dense) layer."
      ]
    },
    {
      "cell_type": "code",
      "metadata": {
        "id": "Iw18sQdQoJzf"
      },
      "source": [
        "import tensorflow as tf\n",
        "from transformers import TFBertModel\n",
        "from tensorflow.keras.layers import Dropout, Dense, GlobalAveragePooling1D\n",
        "from tensorflow.keras.optimizers import Adam\n",
        "from tensorflow.keras.losses import SparseCategoricalCrossentropy\n",
        "from tensorflow.keras.metrics import SparseCategoricalAccuracy\n",
        "\n",
        "\n",
        "class IntentClassificationModel(tf.keras.Model):\n",
        "\n",
        "    def __init__(self, intent_num_labels=None,\n",
        "                 dropout_prob=0.1):\n",
        "        super().__init__(name=\"intent_classifier\")\n",
        "\n",
        "        # Load the pretrained BERT model in the constructor\n",
        "        self.bert = base_bert_model\n",
        "\n",
        "        # TODO: Specify the dropout\n",
        "        self.dropout = None  ### YOUR CODE HERE ###\n",
        "\n",
        "        # TODO: define a Dense classification layer which will compute\n",
        "        # the intent for each sequence in a batch. The number of\n",
        "        # output classes is given by the intent_num_labels parameter.\n",
        "        # Use the default linear activation (no softmax) to compute logits.\n",
        "        # The softmax normalization will be computed in the loss function\n",
        "        # instead of the model.\n",
        "        self.intent_classifier = None  ### YOUR CODE HERE ###\n",
        "\n",
        "    def call(self, inputs, **kwargs):\n",
        "        # Use the pretrained model to extract features from our encoded inputs:\n",
        "        tokens_output, pooled_output = self.bert(inputs, **kwargs, return_dict=False)\n",
        "\n",
        "        # The second output of the main BERT layer has shape\n",
        "        # (batch_size, output_dim) and gives the pooled representation\n",
        "        # for the full sequence (from the hidden state corresponding to [CLS]).\n",
        "        pooled_output = self.dropout(pooled_output, \\\n",
        "                                     training=kwargs.get(\"training\", False))\n",
        "\n",
        "        # TODO: use classifier layer to compute logits from pooled features.\n",
        "        intent_logits = None  ### YOUR CODE HERE ###\n",
        "\n",
        "        return intent_logits\n",
        "\n",
        "# TODO: create an instantiation of this class and pass in the correct\n",
        "# parameter for intent_num_labels.\n",
        "intent_model = None  ### YOUR CODE HERE ###\n",
        "\n",
        "intent_model.compile(optimizer=Adam(learning_rate=3e-5, epsilon=1e-08),\n",
        "                     loss=SparseCategoricalCrossentropy(from_logits=True),\n",
        "                     metrics=[SparseCategoricalAccuracy('accuracy')], run_eagerly=True)"
      ],
      "execution_count": null,
      "outputs": []
    },
    {
      "cell_type": "code",
      "metadata": {
        "id": "FjHVILozos-K"
      },
      "source": [
        "# Train the model.\n",
        "# Note: this cell will take a bit of time to execute.\n",
        "history = intent_model.fit(encoded_train[\"input_ids\"], intent_train, epochs=1, batch_size=32, \\\n",
        "                           validation_data=(encoded_valid[\"input_ids\"], intent_valid))"
      ],
      "execution_count": null,
      "outputs": []
    },
    {
      "cell_type": "markdown",
      "metadata": {
        "id": "vr_1B13Xo8st"
      },
      "source": [
        "#### Softmax\n",
        "\n",
        "Note that this classification model outputs **logits** and we need the **probabilities** of each of the 7 classes being the true intent label.\n",
        "\n",
        "Recall that the softmax function turns an input vector of K real numbers into a normalized probability distribution consisting of K probabilities, proportional to the exponentials of the input numbers.\n",
        "\n",
        "<img src=\"https://miro.medium.com/max/1812/1*670CdxchunD-yAuUWdI7Bw.png\" width=400>\n",
        "\n",
        "For us, the final **softmax** normalization layer is included in the loss function instead of the model directly.\n",
        "\n",
        "That's why we need to configure the loss function `SparseCategoricalCrossentropy(from_logits=True)` accordingly above."
      ]
    },
    {
      "cell_type": "markdown",
      "metadata": {
        "id": "H8VnzpgMo_Jf"
      },
      "source": [
        "### Classification\n",
        "\n",
        "The last step to making predictions is writing a `classify` function that will use the `tokenizer` (from Step 1: Tokenize our Data) and the `intent_model` (from Exercise 4).\n",
        "\n",
        "The main point is choosing which of the 7 classes has the highest probability after the softmax."
      ]
    },
    {
      "cell_type": "code",
      "metadata": {
        "id": "sE9q5SL4o8-w"
      },
      "source": [
        "# Classification takes a voice command as input, as well as\n",
        "# the 7 possible classes (intent_names), and uses the BERT\n",
        "# tokenizer and the intent_model.\n",
        "def classify(text, intent_names):\n",
        "    inputs = tf.constant(tokenizer.encode(text))[None, :]  # batch_size = 1\n",
        "    class_id = intent_model(inputs).numpy().argmax(axis=1)[0]\n",
        "    return intent_names[class_id]"
      ],
      "execution_count": null,
      "outputs": []
    },
    {
      "cell_type": "markdown",
      "metadata": {
        "id": "pzNCHZycpC0J"
      },
      "source": [
        "Let's see how our classify function works on some examples!"
      ]
    },
    {
      "cell_type": "code",
      "metadata": {
        "id": "vh5Yj-8VpJag"
      },
      "source": [
        "classify(\"Book a table for two at La Tour d'Argent for Friday night.\", intent_names)"
      ],
      "execution_count": null,
      "outputs": []
    },
    {
      "cell_type": "code",
      "metadata": {
        "id": "IVO_ZZehpGQo"
      },
      "source": [
        "classify(\"I would like to listen to Anima by Thom Yorke.\", intent_names)"
      ],
      "execution_count": null,
      "outputs": []
    },
    {
      "cell_type": "code",
      "metadata": {
        "id": "vuR4AA4upKUU"
      },
      "source": [
        "classify(\"Will it snow tomorrow in Saclay?\", intent_names)"
      ],
      "execution_count": null,
      "outputs": []
    },
    {
      "cell_type": "code",
      "metadata": {
        "id": "b3JO9E3spNI4"
      },
      "source": [
        "classify(\"Where can I see to the last Star Wars near Odéon tonight?\", intent_names)"
      ],
      "execution_count": null,
      "outputs": []
    },
    {
      "cell_type": "markdown",
      "metadata": {
        "id": "fqmRD5-epOxl"
      },
      "source": [
        "Yay! These examples are all classified correctly. It's also impressive that we can achieve 98% accuracy on the validation set after training for only 1 epoch."
      ]
    },
    {
      "cell_type": "markdown",
      "metadata": {
        "id": "rfyKGhq5pRjQ"
      },
      "source": [
        "#### Error Analysis\n",
        "\n",
        "Let's do a brute force search through the testing set to qualitatively analyze the types of mistakes that our `intent_model` *is* making though.\n"
      ]
    },
    {
      "cell_type": "code",
      "metadata": {
        "id": "RMiCU58HpPRa"
      },
      "source": [
        "# Loop through each row in the pandas DF for the training set,\n",
        "# and print the sequence, predicted label, and correct label\n",
        "# if our classifier failed to predict the correct intent label.\n",
        "# Limit the output to only the first 20 errors.\n",
        "\n",
        "# Shuffle the dataframe (to look at diverse samples):\n",
        "df_test = df_test.sample(frac=1).reset_index(drop=True)\n",
        "\n",
        "error_count = 0\n",
        "for i in range(len(df_test)):\n",
        "  words = \" \".join(df_test[i:i+1][\"words\"].to_string().split(\" \")[4:])\n",
        "  predicted = classify(words, intent_names)\n",
        "  true = df_test[i:i+1][\"intent_label\"].to_string().split(\" \")[-1]\n",
        "\n",
        "  if predicted != true:\n",
        "    error_count += 1\n",
        "    print(\"Incorrectly predicted {} but the correct label is {} for the sequence {}.\" \\\n",
        "          .format(predicted, true, words))\n",
        "  if error_count == 20:\n",
        "    break"
      ],
      "execution_count": null,
      "outputs": []
    },
    {
      "cell_type": "markdown",
      "metadata": {
        "id": "ABkUb5k6pYUr"
      },
      "source": [
        "**Discuss**: Why do you think our classifier made these mistakes, and what could possibly improve the predictions?"
      ]
    }
  ]
}